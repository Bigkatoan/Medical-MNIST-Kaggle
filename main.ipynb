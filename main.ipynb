{
 "cells": [
  {
   "cell_type": "code",
   "execution_count": 1,
   "id": "3fcd385a-1abd-47cf-bc9a-80aafd690435",
   "metadata": {},
   "outputs": [],
   "source": [
    "import numpy\n",
    "import matplotlib.pyplot as plt\n",
    "\n",
    "import tensorflow as tf\n",
    "from tensorflow import keras"
   ]
  },
  {
   "cell_type": "code",
   "execution_count": 2,
   "id": "a5fb5a18-23cc-489b-8614-f5e0d86269a3",
   "metadata": {},
   "outputs": [
    {
     "name": "stdout",
     "output_type": "stream",
     "text": [
      "Found 47163 files belonging to 6 classes.\n",
      "Found 5895 files belonging to 6 classes.\n",
      "Found 5896 files belonging to 6 classes.\n"
     ]
    }
   ],
   "source": [
    "dataset = keras.utils.image_dataset_from_directory(\n",
    "    'data/train/',\n",
    "    color_mode='rgb',\n",
    "    image_size=(64, 64)\n",
    ")\n",
    "valset = keras.utils.image_dataset_from_directory(\n",
    "    'data/val/',\n",
    "    color_mode='rgb',\n",
    "    image_size=(64, 64)\n",
    ")\n",
    "testset = keras.utils.image_dataset_from_directory(\n",
    "    'data/test/',\n",
    "    color_mode='rgb',\n",
    "    image_size=(64, 64)\n",
    ")"
   ]
  },
  {
   "cell_type": "code",
   "execution_count": 3,
   "id": "b27a7f78-ee82-44ab-b45a-8aaa7fab2168",
   "metadata": {},
   "outputs": [
    {
     "name": "stdout",
     "output_type": "stream",
     "text": [
      "['AbdomenCT', 'BreastMRI', 'CXR', 'ChestCT', 'Hand', 'HeadCT']\n",
      "['AbdomenCT', 'BreastMRI', 'CXR', 'ChestCT', 'Hand', 'HeadCT']\n",
      "['AbdomenCT', 'BreastMRI', 'CXR', 'ChestCT', 'Hand', 'HeadCT']\n"
     ]
    }
   ],
   "source": [
    "print(dataset.class_names)\n",
    "print(valset.class_names)\n",
    "print(testset.class_names)"
   ]
  },
  {
   "cell_type": "code",
   "execution_count": 4,
   "id": "55dc386e-f2d1-454c-b26c-cc13aad40b2f",
   "metadata": {},
   "outputs": [
    {
     "data": {
      "image/png": "[encoded data removed]",
      "text/plain": [
       "<Figure size 640x480 with 1 Axes>"
      ]
     },
     "metadata": {},
     "output_type": "display_data"
    }
   ],
   "source": [
    "for imgs, labels in dataset.take(1):\n",
    "    for i in range(len(imgs)):\n",
    "        img = imgs[i]\n",
    "        label = labels[i]\n",
    "        plt.xlabel(f\"label: {dataset.class_names[label]}\")\n",
    "        plt.imshow(img/255)\n",
    "        plt.show()\n",
    "        break"
   ]
  },
  {
   "cell_type": "code",
   "execution_count": 5,
   "id": "4d0da820-820d-4e10-979a-a85f59170ed4",
   "metadata": {},
   "outputs": [],
   "source": [
    "def build_model():\n",
    "    model = keras.Sequential(name='Medical')\n",
    "    model.add(keras.Input(shape=(64, 64, 3)))\n",
    "    model.add(keras.layers.Conv2D(32, (3, 3), padding='same', activation='relu'))\n",
    "    model.add(keras.layers.MaxPooling2D(2))\n",
    "    model.add(keras.layers.Conv2D(64, (3, 3), padding='same', activation='relu'))\n",
    "    model.add(keras.layers.MaxPooling2D(2))\n",
    "    model.add(keras.layers.Conv2D(64, (3, 3), padding='same', activation='relu'))\n",
    "    model.add(keras.layers.MaxPooling2D(2))\n",
    "    model.add(keras.layers.Flatten())\n",
    "    model.add(keras.layers.Dense(16, activation='relu'))\n",
    "    model.add(keras.layers.Dense(6, activation='softmax'))\n",
    "    \n",
    "    model.compile(\n",
    "        optimizer=keras.optimizers.Adam(),\n",
    "        loss=keras.losses.SparseCategoricalCrossentropy(),\n",
    "        metrics=['accuracy']\n",
    "    )\n",
    "    return model"
   ]
  },
  {
   "cell_type": "code",
   "execution_count": 6,
   "id": "efb712af-8aae-43fa-bbd1-cab76ef9b36b",
   "metadata": {},
   "outputs": [
    {
     "name": "stdout",
     "output_type": "stream",
     "text": [
      "Model: \"Medical\"\n",
      "_________________________________________________________________\n",
      " Layer (type)                Output Shape              Param #   \n",
      "=================================================================\n",
      " conv2d (Conv2D)             (None, 64, 64, 32)        896       \n",
      "                                                                 \n",
      " max_pooling2d (MaxPooling2  (None, 32, 32, 32)        0         \n",
      " D)                                                              \n",
      "                                                                 \n",
      " conv2d_1 (Conv2D)           (None, 32, 32, 64)        18496     \n",
      "                                                                 \n",
      " max_pooling2d_1 (MaxPoolin  (None, 16, 16, 64)        0         \n",
      " g2D)                                                            \n",
      "                                                                 \n",
      " conv2d_2 (Conv2D)           (None, 16, 16, 64)        36928     \n",
      "                                                                 \n",
      " max_pooling2d_2 (MaxPoolin  (None, 8, 8, 64)          0         \n",
      " g2D)                                                            \n",
      "                                                                 \n",
      " flatten (Flatten)           (None, 4096)              0         \n",
      "                                                                 \n",
      " dense (Dense)               (None, 16)                65552     \n",
      "                                                                 \n",
      " dense_1 (Dense)             (None, 6)                 102       \n",
      "                                                                 \n",
      "=================================================================\n",
      "Total params: 121974 (476.46 KB)\n",
      "Trainable params: 121974 (476.46 KB)\n",
      "Non-trainable params: 0 (0.00 Byte)\n",
      "_________________________________________________________________\n"
     ]
    }
   ],
   "source": [
    "model = build_model()\n",
    "model.summary()"
   ]
  },
  {
   "cell_type": "code",
   "execution_count": 7,
   "id": "8fdbecce-0a51-4518-a2de-60992138c990",
   "metadata": {},
   "outputs": [
    {
     "name": "stdout",
     "output_type": "stream",
     "text": [
      "Epoch 1/10\n"
     ]
    },
    {
     "name": "stderr",
     "output_type": "stream",
     "text": [
      "WARNING: All log messages before absl::InitializeLog() is called are written to STDERR\n",
      "I0000 00:00:1708420276.663762  202514 device_compiler.h:186] Compiled cluster using XLA!  This line is logged at most once for the lifetime of the process.\n"
     ]
    },
    {
     "name": "stdout",
     "output_type": "stream",
     "text": [
      "1474/1474 [==============================] - 12s 6ms/step - loss: 0.4741 - accuracy: 0.8981 - val_loss: 0.2209 - val_accuracy: 0.9873\n",
      "Epoch 2/10\n",
      "1474/1474 [==============================] - 8s 6ms/step - loss: 0.1618 - accuracy: 0.9860 - val_loss: 0.1311 - val_accuracy: 0.9925\n",
      "Epoch 3/10\n",
      "1474/1474 [==============================] - 8s 6ms/step - loss: 0.0624 - accuracy: 0.9927 - val_loss: 0.0340 - val_accuracy: 0.9971\n",
      "Epoch 4/10\n",
      "1474/1474 [==============================] - 8s 6ms/step - loss: 0.0342 - accuracy: 0.9941 - val_loss: 0.0559 - val_accuracy: 0.9927\n",
      "Epoch 5/10\n",
      "1474/1474 [==============================] - 8s 6ms/step - loss: 0.0266 - accuracy: 0.9950 - val_loss: 0.0094 - val_accuracy: 0.9978\n",
      "Epoch 6/10\n",
      "1474/1474 [==============================] - 8s 6ms/step - loss: 0.0207 - accuracy: 0.9953 - val_loss: 0.0151 - val_accuracy: 0.9969\n",
      "Epoch 7/10\n",
      "1474/1474 [==============================] - 8s 5ms/step - loss: 0.0157 - accuracy: 0.9960 - val_loss: 0.0138 - val_accuracy: 0.9966\n",
      "Epoch 8/10\n",
      "1474/1474 [==============================] - 8s 5ms/step - loss: 0.0273 - accuracy: 0.9948 - val_loss: 0.0238 - val_accuracy: 0.9961\n",
      "Epoch 9/10\n",
      "1474/1474 [==============================] - 8s 5ms/step - loss: 0.0169 - accuracy: 0.9961 - val_loss: 0.0173 - val_accuracy: 0.9966\n",
      "Epoch 10/10\n",
      "1474/1474 [==============================] - 8s 5ms/step - loss: 0.0182 - accuracy: 0.9964 - val_loss: 0.0291 - val_accuracy: 0.9975\n"
     ]
    }
   ],
   "source": [
    "history = model.fit(dataset, validation_data=valset, epochs=10)"
   ]
  },
  {
   "cell_type": "code",
   "execution_count": 8,
   "id": "3cf5496b-ab5f-4cef-8843-0448dd2bd8d8",
   "metadata": {},
   "outputs": [
    {
     "data": {
      "image/png": "[encoded data removed]",
      "text/plain": [
       "<Figure size 640x480 with 1 Axes>"
      ]
     },
     "metadata": {},
     "output_type": "display_data"
    }
   ],
   "source": [
    "plt.plot(range(len(history.history['loss'])), history.history['loss'])\n",
    "plt.plot(range(len(history.history['accuracy'])), history.history['accuracy'])\n",
    "plt.show()"
   ]
  },
  {
   "cell_type": "code",
   "execution_count": 11,
   "id": "71ba3bbd-8d06-46b5-a75d-5e731b230bf7",
   "metadata": {},
   "outputs": [
    {
     "name": "stdout",
     "output_type": "stream",
     "text": [
      "185/185 [==============================] - 1s 3ms/step - loss: 0.0265 - accuracy: 0.9959\n",
      "loss: 0.026, accuracy: 0.996\n"
     ]
    }
   ],
   "source": [
    "loss, accuracy = model.evaluate(testset)\n",
    "print(f\"loss: {loss:.3f}, accuracy: {accuracy:.3f}\")"
   ]
  }
 ],
 "metadata": {
  "kernelspec": {
   "display_name": "Python 3 (ipykernel)",
   "language": "python",
   "name": "python3"
  },
  "language_info": {
   "codemirror_mode": {
    "name": "ipython",
    "version": 3
   },
   "file_extension": ".py",
   "mimetype": "text/x-python",
   "name": "python",
   "nbconvert_exporter": "python",
   "pygments_lexer": "ipython3",
   "version": "3.9.15"
  }
 },
 "nbformat": 4,
 "nbformat_minor": 5
}
